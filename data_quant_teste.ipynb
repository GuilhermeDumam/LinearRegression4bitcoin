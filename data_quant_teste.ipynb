{
  "nbformat": 4,
  "nbformat_minor": 0,
  "metadata": {
    "colab": {
      "name": "data_quant_teste.ipynb",
      "provenance": [],
      "authorship_tag": "ABX9TyNCbHBukAdMuauQy9PcA1xC",
      "include_colab_link": true
    },
    "kernelspec": {
      "name": "python3",
      "display_name": "Python 3"
    },
    "language_info": {
      "name": "python"
    }
  },
  "cells": [
    {
      "cell_type": "markdown",
      "metadata": {
        "id": "view-in-github",
        "colab_type": "text"
      },
      "source": [
        "<a href=\"https://colab.research.google.com/github/GuilhermeDumam/LinearRegression4bitcoin/blob/Master/data_quant_teste.ipynb\" target=\"_parent\"><img src=\"https://colab.research.google.com/assets/colab-badge.svg\" alt=\"Open In Colab\"/></a>"
      ]
    },
    {
      "cell_type": "markdown",
      "source": [
        "#Algoritmo de regressão linear montado para prever preço de bitcoin\n",
        "\n",
        "\n",
        "####1-Coleta dos dados\n",
        "\n",
        "####2-Limpeza e transformação dos dados\n",
        "\n",
        "####3-Feature engineering\n",
        "\n",
        "####4-Treino de algoritmo e score."
      ],
      "metadata": {
        "id": "WKBYnMqnxX6Y"
      }
    },
    {
      "cell_type": "markdown",
      "source": [
        "##Coleta de dados e importação das bibliotecas"
      ],
      "metadata": {
        "id": "tfMQdxMByQq3"
      }
    },
    {
      "cell_type": "code",
      "execution_count": 210,
      "metadata": {
        "id": "C7TmeCkPjFIg"
      },
      "outputs": [],
      "source": [
        "import numpy as np\n",
        "import pandas as pd\n",
        "from sklearn.linear_model import LinearRegression\n",
        "from sklearn.model_selection import train_test_split\n",
        "from sklearn.model_selection import KFold\n",
        "from sklearn.model_selection import cross_val_score\n",
        "from sklearn.feature_selection import SelectKBest\n",
        "from sklearn.feature_selection import f_regression\n",
        "import matplotlib.pyplot as plt\n",
        "import seaborn as sns\n",
        "from matplotlib import pyplot"
      ]
    },
    {
      "cell_type": "code",
      "source": [
        "df = pd.read_csv('https://raw.githubusercontent.com/coinmetrics/data/master/csv/btc.csv', sep = ',')"
      ],
      "metadata": {
        "id": "Eh20FdNIzk-w"
      },
      "execution_count": 211,
      "outputs": []
    },
    {
      "cell_type": "markdown",
      "source": [
        "##Limpeza e transformação dos dados, para ficarem adequados para o modelo."
      ],
      "metadata": {
        "id": "Ro0sgOakyVKC"
      }
    },
    {
      "cell_type": "code",
      "source": [
        "df.shape"
      ],
      "metadata": {
        "colab": {
          "base_uri": "https://localhost:8080/"
        },
        "id": "oAjeFB5BsTRD",
        "outputId": "f2482b72-18cb-4aad-9870-6bba61a8366b"
      },
      "execution_count": 212,
      "outputs": [
        {
          "output_type": "execute_result",
          "data": {
            "text/plain": [
              "(4980, 145)"
            ]
          },
          "metadata": {},
          "execution_count": 212
        }
      ]
    },
    {
      "cell_type": "code",
      "source": [
        "df.head()"
      ],
      "metadata": {
        "colab": {
          "base_uri": "https://localhost:8080/",
          "height": 386
        },
        "id": "m9LPSW2T4Jzz",
        "outputId": "8a75dce2-af22-4be0-b65f-b5c0b71f321f"
      },
      "execution_count": 213,
      "outputs": [
        {
          "output_type": "execute_result",
          "data": {
            "text/plain": [
              "         time  AdrActCnt  AdrBal1in100KCnt  AdrBal1in100MCnt  AdrBal1in10BCnt  \\\n",
              "0  2009-01-03        0.0               0.0               0.0              0.0   \n",
              "1  2009-01-04        0.0               0.0               0.0              0.0   \n",
              "2  2009-01-05        0.0               0.0               0.0              0.0   \n",
              "3  2009-01-06        0.0               0.0               0.0              0.0   \n",
              "4  2009-01-07        0.0               0.0               0.0              0.0   \n",
              "\n",
              "   AdrBal1in10KCnt  AdrBal1in10MCnt  AdrBal1in1BCnt  AdrBal1in1KCnt  \\\n",
              "0              0.0              0.0             0.0             0.0   \n",
              "1              0.0              0.0             0.0             0.0   \n",
              "2              0.0              0.0             0.0             0.0   \n",
              "3              0.0              0.0             0.0             0.0   \n",
              "4              0.0              0.0             0.0             0.0   \n",
              "\n",
              "   AdrBal1in1MCnt  ...  TxTfrCnt  TxTfrValAdjNtv  TxTfrValAdjUSD  \\\n",
              "0             0.0  ...       0.0             0.0             NaN   \n",
              "1             0.0  ...       0.0             0.0             NaN   \n",
              "2             0.0  ...       0.0             0.0             NaN   \n",
              "3             0.0  ...       0.0             0.0             NaN   \n",
              "4             0.0  ...       0.0             0.0             NaN   \n",
              "\n",
              "   TxTfrValMeanNtv  TxTfrValMeanUSD  TxTfrValMedNtv  TxTfrValMedUSD  \\\n",
              "0              NaN              NaN             NaN             NaN   \n",
              "1              NaN              NaN             NaN             NaN   \n",
              "2              NaN              NaN             NaN             NaN   \n",
              "3              NaN              NaN             NaN             NaN   \n",
              "4              NaN              NaN             NaN             NaN   \n",
              "\n",
              "   VelCur1yr  VtyDayRet180d  VtyDayRet30d  \n",
              "0        NaN            NaN           NaN  \n",
              "1        NaN            NaN           NaN  \n",
              "2        NaN            NaN           NaN  \n",
              "3        NaN            NaN           NaN  \n",
              "4        NaN            NaN           NaN  \n",
              "\n",
              "[5 rows x 145 columns]"
            ],
            "text/html": [
              "\n",
              "  <div id=\"df-82db23a7-4901-4d3f-9904-a1033509f624\">\n",
              "    <div class=\"colab-df-container\">\n",
              "      <div>\n",
              "<style scoped>\n",
              "    .dataframe tbody tr th:only-of-type {\n",
              "        vertical-align: middle;\n",
              "    }\n",
              "\n",
              "    .dataframe tbody tr th {\n",
              "        vertical-align: top;\n",
              "    }\n",
              "\n",
              "    .dataframe thead th {\n",
              "        text-align: right;\n",
              "    }\n",
              "</style>\n",
              "<table border=\"1\" class=\"dataframe\">\n",
              "  <thead>\n",
              "    <tr style=\"text-align: right;\">\n",
              "      <th></th>\n",
              "      <th>time</th>\n",
              "      <th>AdrActCnt</th>\n",
              "      <th>AdrBal1in100KCnt</th>\n",
              "      <th>AdrBal1in100MCnt</th>\n",
              "      <th>AdrBal1in10BCnt</th>\n",
              "      <th>AdrBal1in10KCnt</th>\n",
              "      <th>AdrBal1in10MCnt</th>\n",
              "      <th>AdrBal1in1BCnt</th>\n",
              "      <th>AdrBal1in1KCnt</th>\n",
              "      <th>AdrBal1in1MCnt</th>\n",
              "      <th>...</th>\n",
              "      <th>TxTfrCnt</th>\n",
              "      <th>TxTfrValAdjNtv</th>\n",
              "      <th>TxTfrValAdjUSD</th>\n",
              "      <th>TxTfrValMeanNtv</th>\n",
              "      <th>TxTfrValMeanUSD</th>\n",
              "      <th>TxTfrValMedNtv</th>\n",
              "      <th>TxTfrValMedUSD</th>\n",
              "      <th>VelCur1yr</th>\n",
              "      <th>VtyDayRet180d</th>\n",
              "      <th>VtyDayRet30d</th>\n",
              "    </tr>\n",
              "  </thead>\n",
              "  <tbody>\n",
              "    <tr>\n",
              "      <th>0</th>\n",
              "      <td>2009-01-03</td>\n",
              "      <td>0.0</td>\n",
              "      <td>0.0</td>\n",
              "      <td>0.0</td>\n",
              "      <td>0.0</td>\n",
              "      <td>0.0</td>\n",
              "      <td>0.0</td>\n",
              "      <td>0.0</td>\n",
              "      <td>0.0</td>\n",
              "      <td>0.0</td>\n",
              "      <td>...</td>\n",
              "      <td>0.0</td>\n",
              "      <td>0.0</td>\n",
              "      <td>NaN</td>\n",
              "      <td>NaN</td>\n",
              "      <td>NaN</td>\n",
              "      <td>NaN</td>\n",
              "      <td>NaN</td>\n",
              "      <td>NaN</td>\n",
              "      <td>NaN</td>\n",
              "      <td>NaN</td>\n",
              "    </tr>\n",
              "    <tr>\n",
              "      <th>1</th>\n",
              "      <td>2009-01-04</td>\n",
              "      <td>0.0</td>\n",
              "      <td>0.0</td>\n",
              "      <td>0.0</td>\n",
              "      <td>0.0</td>\n",
              "      <td>0.0</td>\n",
              "      <td>0.0</td>\n",
              "      <td>0.0</td>\n",
              "      <td>0.0</td>\n",
              "      <td>0.0</td>\n",
              "      <td>...</td>\n",
              "      <td>0.0</td>\n",
              "      <td>0.0</td>\n",
              "      <td>NaN</td>\n",
              "      <td>NaN</td>\n",
              "      <td>NaN</td>\n",
              "      <td>NaN</td>\n",
              "      <td>NaN</td>\n",
              "      <td>NaN</td>\n",
              "      <td>NaN</td>\n",
              "      <td>NaN</td>\n",
              "    </tr>\n",
              "    <tr>\n",
              "      <th>2</th>\n",
              "      <td>2009-01-05</td>\n",
              "      <td>0.0</td>\n",
              "      <td>0.0</td>\n",
              "      <td>0.0</td>\n",
              "      <td>0.0</td>\n",
              "      <td>0.0</td>\n",
              "      <td>0.0</td>\n",
              "      <td>0.0</td>\n",
              "      <td>0.0</td>\n",
              "      <td>0.0</td>\n",
              "      <td>...</td>\n",
              "      <td>0.0</td>\n",
              "      <td>0.0</td>\n",
              "      <td>NaN</td>\n",
              "      <td>NaN</td>\n",
              "      <td>NaN</td>\n",
              "      <td>NaN</td>\n",
              "      <td>NaN</td>\n",
              "      <td>NaN</td>\n",
              "      <td>NaN</td>\n",
              "      <td>NaN</td>\n",
              "    </tr>\n",
              "    <tr>\n",
              "      <th>3</th>\n",
              "      <td>2009-01-06</td>\n",
              "      <td>0.0</td>\n",
              "      <td>0.0</td>\n",
              "      <td>0.0</td>\n",
              "      <td>0.0</td>\n",
              "      <td>0.0</td>\n",
              "      <td>0.0</td>\n",
              "      <td>0.0</td>\n",
              "      <td>0.0</td>\n",
              "      <td>0.0</td>\n",
              "      <td>...</td>\n",
              "      <td>0.0</td>\n",
              "      <td>0.0</td>\n",
              "      <td>NaN</td>\n",
              "      <td>NaN</td>\n",
              "      <td>NaN</td>\n",
              "      <td>NaN</td>\n",
              "      <td>NaN</td>\n",
              "      <td>NaN</td>\n",
              "      <td>NaN</td>\n",
              "      <td>NaN</td>\n",
              "    </tr>\n",
              "    <tr>\n",
              "      <th>4</th>\n",
              "      <td>2009-01-07</td>\n",
              "      <td>0.0</td>\n",
              "      <td>0.0</td>\n",
              "      <td>0.0</td>\n",
              "      <td>0.0</td>\n",
              "      <td>0.0</td>\n",
              "      <td>0.0</td>\n",
              "      <td>0.0</td>\n",
              "      <td>0.0</td>\n",
              "      <td>0.0</td>\n",
              "      <td>...</td>\n",
              "      <td>0.0</td>\n",
              "      <td>0.0</td>\n",
              "      <td>NaN</td>\n",
              "      <td>NaN</td>\n",
              "      <td>NaN</td>\n",
              "      <td>NaN</td>\n",
              "      <td>NaN</td>\n",
              "      <td>NaN</td>\n",
              "      <td>NaN</td>\n",
              "      <td>NaN</td>\n",
              "    </tr>\n",
              "  </tbody>\n",
              "</table>\n",
              "<p>5 rows × 145 columns</p>\n",
              "</div>\n",
              "      <button class=\"colab-df-convert\" onclick=\"convertToInteractive('df-82db23a7-4901-4d3f-9904-a1033509f624')\"\n",
              "              title=\"Convert this dataframe to an interactive table.\"\n",
              "              style=\"display:none;\">\n",
              "        \n",
              "  <svg xmlns=\"http://www.w3.org/2000/svg\" height=\"24px\"viewBox=\"0 0 24 24\"\n",
              "       width=\"24px\">\n",
              "    <path d=\"M0 0h24v24H0V0z\" fill=\"none\"/>\n",
              "    <path d=\"M18.56 5.44l.94 2.06.94-2.06 2.06-.94-2.06-.94-.94-2.06-.94 2.06-2.06.94zm-11 1L8.5 8.5l.94-2.06 2.06-.94-2.06-.94L8.5 2.5l-.94 2.06-2.06.94zm10 10l.94 2.06.94-2.06 2.06-.94-2.06-.94-.94-2.06-.94 2.06-2.06.94z\"/><path d=\"M17.41 7.96l-1.37-1.37c-.4-.4-.92-.59-1.43-.59-.52 0-1.04.2-1.43.59L10.3 9.45l-7.72 7.72c-.78.78-.78 2.05 0 2.83L4 21.41c.39.39.9.59 1.41.59.51 0 1.02-.2 1.41-.59l7.78-7.78 2.81-2.81c.8-.78.8-2.07 0-2.86zM5.41 20L4 18.59l7.72-7.72 1.47 1.35L5.41 20z\"/>\n",
              "  </svg>\n",
              "      </button>\n",
              "      \n",
              "  <style>\n",
              "    .colab-df-container {\n",
              "      display:flex;\n",
              "      flex-wrap:wrap;\n",
              "      gap: 12px;\n",
              "    }\n",
              "\n",
              "    .colab-df-convert {\n",
              "      background-color: #E8F0FE;\n",
              "      border: none;\n",
              "      border-radius: 50%;\n",
              "      cursor: pointer;\n",
              "      display: none;\n",
              "      fill: #1967D2;\n",
              "      height: 32px;\n",
              "      padding: 0 0 0 0;\n",
              "      width: 32px;\n",
              "    }\n",
              "\n",
              "    .colab-df-convert:hover {\n",
              "      background-color: #E2EBFA;\n",
              "      box-shadow: 0px 1px 2px rgba(60, 64, 67, 0.3), 0px 1px 3px 1px rgba(60, 64, 67, 0.15);\n",
              "      fill: #174EA6;\n",
              "    }\n",
              "\n",
              "    [theme=dark] .colab-df-convert {\n",
              "      background-color: #3B4455;\n",
              "      fill: #D2E3FC;\n",
              "    }\n",
              "\n",
              "    [theme=dark] .colab-df-convert:hover {\n",
              "      background-color: #434B5C;\n",
              "      box-shadow: 0px 1px 3px 1px rgba(0, 0, 0, 0.15);\n",
              "      filter: drop-shadow(0px 1px 2px rgba(0, 0, 0, 0.3));\n",
              "      fill: #FFFFFF;\n",
              "    }\n",
              "  </style>\n",
              "\n",
              "      <script>\n",
              "        const buttonEl =\n",
              "          document.querySelector('#df-82db23a7-4901-4d3f-9904-a1033509f624 button.colab-df-convert');\n",
              "        buttonEl.style.display =\n",
              "          google.colab.kernel.accessAllowed ? 'block' : 'none';\n",
              "\n",
              "        async function convertToInteractive(key) {\n",
              "          const element = document.querySelector('#df-82db23a7-4901-4d3f-9904-a1033509f624');\n",
              "          const dataTable =\n",
              "            await google.colab.kernel.invokeFunction('convertToInteractive',\n",
              "                                                     [key], {});\n",
              "          if (!dataTable) return;\n",
              "\n",
              "          const docLinkHtml = 'Like what you see? Visit the ' +\n",
              "            '<a target=\"_blank\" href=https://colab.research.google.com/notebooks/data_table.ipynb>data table notebook</a>'\n",
              "            + ' to learn more about interactive tables.';\n",
              "          element.innerHTML = '';\n",
              "          dataTable['output_type'] = 'display_data';\n",
              "          await google.colab.output.renderOutput(dataTable, element);\n",
              "          const docLink = document.createElement('div');\n",
              "          docLink.innerHTML = docLinkHtml;\n",
              "          element.appendChild(docLink);\n",
              "        }\n",
              "      </script>\n",
              "    </div>\n",
              "  </div>\n",
              "  "
            ]
          },
          "metadata": {},
          "execution_count": 213
        }
      ]
    },
    {
      "cell_type": "code",
      "source": [
        "df.info()"
      ],
      "metadata": {
        "colab": {
          "base_uri": "https://localhost:8080/"
        },
        "id": "01R8aSow46o2",
        "outputId": "1d1d1918-887f-40f3-e8ae-af6b2d6e52e5"
      },
      "execution_count": 214,
      "outputs": [
        {
          "output_type": "stream",
          "name": "stdout",
          "text": [
            "<class 'pandas.core.frame.DataFrame'>\n",
            "RangeIndex: 4980 entries, 0 to 4979\n",
            "Columns: 145 entries, time to VtyDayRet30d\n",
            "dtypes: float64(144), object(1)\n",
            "memory usage: 5.5+ MB\n"
          ]
        }
      ]
    },
    {
      "cell_type": "code",
      "source": [
        "df.dtypes == 'float64'"
      ],
      "metadata": {
        "colab": {
          "base_uri": "https://localhost:8080/"
        },
        "id": "3P0mbED3WKar",
        "outputId": "c0c07bc1-9a01-4f2d-ca50-97a28354bbd4"
      },
      "execution_count": 215,
      "outputs": [
        {
          "output_type": "execute_result",
          "data": {
            "text/plain": [
              "time                False\n",
              "AdrActCnt            True\n",
              "AdrBal1in100KCnt     True\n",
              "AdrBal1in100MCnt     True\n",
              "AdrBal1in10BCnt      True\n",
              "                    ...  \n",
              "TxTfrValMedNtv       True\n",
              "TxTfrValMedUSD       True\n",
              "VelCur1yr            True\n",
              "VtyDayRet180d        True\n",
              "VtyDayRet30d         True\n",
              "Length: 145, dtype: bool"
            ]
          },
          "metadata": {},
          "execution_count": 215
        }
      ]
    },
    {
      "cell_type": "code",
      "source": [
        "df.isna().sum()/df.shape[0]"
      ],
      "metadata": {
        "colab": {
          "base_uri": "https://localhost:8080/"
        },
        "id": "DoGPRpKkTaIf",
        "outputId": "1a966f12-d325-4574-d86f-27a4d200270a"
      },
      "execution_count": 216,
      "outputs": [
        {
          "output_type": "execute_result",
          "data": {
            "text/plain": [
              "time                0.000000\n",
              "AdrActCnt           0.000201\n",
              "AdrBal1in100KCnt    0.000201\n",
              "AdrBal1in100MCnt    0.000201\n",
              "AdrBal1in10BCnt     0.000201\n",
              "                      ...   \n",
              "TxTfrValMedNtv      0.052008\n",
              "TxTfrValMedUSD      0.112851\n",
              "VelCur1yr           0.001406\n",
              "VtyDayRet180d       0.148996\n",
              "VtyDayRet30d        0.118876\n",
              "Length: 145, dtype: float64"
            ]
          },
          "metadata": {},
          "execution_count": 216
        }
      ]
    },
    {
      "cell_type": "code",
      "source": [
        "df[df.duplicated()].count()"
      ],
      "metadata": {
        "colab": {
          "base_uri": "https://localhost:8080/"
        },
        "id": "wEkNNrGKTJG6",
        "outputId": "2593d136-56bd-41ff-80b3-1012557d3c86"
      },
      "execution_count": 217,
      "outputs": [
        {
          "output_type": "execute_result",
          "data": {
            "text/plain": [
              "time                0\n",
              "AdrActCnt           0\n",
              "AdrBal1in100KCnt    0\n",
              "AdrBal1in100MCnt    0\n",
              "AdrBal1in10BCnt     0\n",
              "                   ..\n",
              "TxTfrValMedNtv      0\n",
              "TxTfrValMedUSD      0\n",
              "VelCur1yr           0\n",
              "VtyDayRet180d       0\n",
              "VtyDayRet30d        0\n",
              "Length: 145, dtype: int64"
            ]
          },
          "metadata": {},
          "execution_count": 217
        }
      ]
    },
    {
      "cell_type": "markdown",
      "source": [
        "###Dropamos os valores nulos, eles não serão de utilidade para nós."
      ],
      "metadata": {
        "id": "pyD0DcLX00Da"
      }
    },
    {
      "cell_type": "code",
      "source": [
        "df.dropna(inplace=True)"
      ],
      "metadata": {
        "id": "jDyw7TR5tXk7"
      },
      "execution_count": 218,
      "outputs": []
    },
    {
      "cell_type": "code",
      "source": [
        "df.select_dtypes(include=['object'])"
      ],
      "metadata": {
        "colab": {
          "base_uri": "https://localhost:8080/",
          "height": 424
        },
        "id": "0Ekr9EgUg_hT",
        "outputId": "8ddd0d72-7999-489c-ced5-8539aa01999b"
      },
      "execution_count": 219,
      "outputs": [
        {
          "output_type": "execute_result",
          "data": {
            "text/plain": [
              "            time\n",
              "3822  2019-06-22\n",
              "3823  2019-06-23\n",
              "3824  2019-06-24\n",
              "3825  2019-06-25\n",
              "3826  2019-06-26\n",
              "...          ...\n",
              "4974  2022-08-17\n",
              "4975  2022-08-18\n",
              "4976  2022-08-19\n",
              "4977  2022-08-20\n",
              "4978  2022-08-21\n",
              "\n",
              "[1157 rows x 1 columns]"
            ],
            "text/html": [
              "\n",
              "  <div id=\"df-fbacc18b-fe0f-497b-8804-9b03dc9cce87\">\n",
              "    <div class=\"colab-df-container\">\n",
              "      <div>\n",
              "<style scoped>\n",
              "    .dataframe tbody tr th:only-of-type {\n",
              "        vertical-align: middle;\n",
              "    }\n",
              "\n",
              "    .dataframe tbody tr th {\n",
              "        vertical-align: top;\n",
              "    }\n",
              "\n",
              "    .dataframe thead th {\n",
              "        text-align: right;\n",
              "    }\n",
              "</style>\n",
              "<table border=\"1\" class=\"dataframe\">\n",
              "  <thead>\n",
              "    <tr style=\"text-align: right;\">\n",
              "      <th></th>\n",
              "      <th>time</th>\n",
              "    </tr>\n",
              "  </thead>\n",
              "  <tbody>\n",
              "    <tr>\n",
              "      <th>3822</th>\n",
              "      <td>2019-06-22</td>\n",
              "    </tr>\n",
              "    <tr>\n",
              "      <th>3823</th>\n",
              "      <td>2019-06-23</td>\n",
              "    </tr>\n",
              "    <tr>\n",
              "      <th>3824</th>\n",
              "      <td>2019-06-24</td>\n",
              "    </tr>\n",
              "    <tr>\n",
              "      <th>3825</th>\n",
              "      <td>2019-06-25</td>\n",
              "    </tr>\n",
              "    <tr>\n",
              "      <th>3826</th>\n",
              "      <td>2019-06-26</td>\n",
              "    </tr>\n",
              "    <tr>\n",
              "      <th>...</th>\n",
              "      <td>...</td>\n",
              "    </tr>\n",
              "    <tr>\n",
              "      <th>4974</th>\n",
              "      <td>2022-08-17</td>\n",
              "    </tr>\n",
              "    <tr>\n",
              "      <th>4975</th>\n",
              "      <td>2022-08-18</td>\n",
              "    </tr>\n",
              "    <tr>\n",
              "      <th>4976</th>\n",
              "      <td>2022-08-19</td>\n",
              "    </tr>\n",
              "    <tr>\n",
              "      <th>4977</th>\n",
              "      <td>2022-08-20</td>\n",
              "    </tr>\n",
              "    <tr>\n",
              "      <th>4978</th>\n",
              "      <td>2022-08-21</td>\n",
              "    </tr>\n",
              "  </tbody>\n",
              "</table>\n",
              "<p>1157 rows × 1 columns</p>\n",
              "</div>\n",
              "      <button class=\"colab-df-convert\" onclick=\"convertToInteractive('df-fbacc18b-fe0f-497b-8804-9b03dc9cce87')\"\n",
              "              title=\"Convert this dataframe to an interactive table.\"\n",
              "              style=\"display:none;\">\n",
              "        \n",
              "  <svg xmlns=\"http://www.w3.org/2000/svg\" height=\"24px\"viewBox=\"0 0 24 24\"\n",
              "       width=\"24px\">\n",
              "    <path d=\"M0 0h24v24H0V0z\" fill=\"none\"/>\n",
              "    <path d=\"M18.56 5.44l.94 2.06.94-2.06 2.06-.94-2.06-.94-.94-2.06-.94 2.06-2.06.94zm-11 1L8.5 8.5l.94-2.06 2.06-.94-2.06-.94L8.5 2.5l-.94 2.06-2.06.94zm10 10l.94 2.06.94-2.06 2.06-.94-2.06-.94-.94-2.06-.94 2.06-2.06.94z\"/><path d=\"M17.41 7.96l-1.37-1.37c-.4-.4-.92-.59-1.43-.59-.52 0-1.04.2-1.43.59L10.3 9.45l-7.72 7.72c-.78.78-.78 2.05 0 2.83L4 21.41c.39.39.9.59 1.41.59.51 0 1.02-.2 1.41-.59l7.78-7.78 2.81-2.81c.8-.78.8-2.07 0-2.86zM5.41 20L4 18.59l7.72-7.72 1.47 1.35L5.41 20z\"/>\n",
              "  </svg>\n",
              "      </button>\n",
              "      \n",
              "  <style>\n",
              "    .colab-df-container {\n",
              "      display:flex;\n",
              "      flex-wrap:wrap;\n",
              "      gap: 12px;\n",
              "    }\n",
              "\n",
              "    .colab-df-convert {\n",
              "      background-color: #E8F0FE;\n",
              "      border: none;\n",
              "      border-radius: 50%;\n",
              "      cursor: pointer;\n",
              "      display: none;\n",
              "      fill: #1967D2;\n",
              "      height: 32px;\n",
              "      padding: 0 0 0 0;\n",
              "      width: 32px;\n",
              "    }\n",
              "\n",
              "    .colab-df-convert:hover {\n",
              "      background-color: #E2EBFA;\n",
              "      box-shadow: 0px 1px 2px rgba(60, 64, 67, 0.3), 0px 1px 3px 1px rgba(60, 64, 67, 0.15);\n",
              "      fill: #174EA6;\n",
              "    }\n",
              "\n",
              "    [theme=dark] .colab-df-convert {\n",
              "      background-color: #3B4455;\n",
              "      fill: #D2E3FC;\n",
              "    }\n",
              "\n",
              "    [theme=dark] .colab-df-convert:hover {\n",
              "      background-color: #434B5C;\n",
              "      box-shadow: 0px 1px 3px 1px rgba(0, 0, 0, 0.15);\n",
              "      filter: drop-shadow(0px 1px 2px rgba(0, 0, 0, 0.3));\n",
              "      fill: #FFFFFF;\n",
              "    }\n",
              "  </style>\n",
              "\n",
              "      <script>\n",
              "        const buttonEl =\n",
              "          document.querySelector('#df-fbacc18b-fe0f-497b-8804-9b03dc9cce87 button.colab-df-convert');\n",
              "        buttonEl.style.display =\n",
              "          google.colab.kernel.accessAllowed ? 'block' : 'none';\n",
              "\n",
              "        async function convertToInteractive(key) {\n",
              "          const element = document.querySelector('#df-fbacc18b-fe0f-497b-8804-9b03dc9cce87');\n",
              "          const dataTable =\n",
              "            await google.colab.kernel.invokeFunction('convertToInteractive',\n",
              "                                                     [key], {});\n",
              "          if (!dataTable) return;\n",
              "\n",
              "          const docLinkHtml = 'Like what you see? Visit the ' +\n",
              "            '<a target=\"_blank\" href=https://colab.research.google.com/notebooks/data_table.ipynb>data table notebook</a>'\n",
              "            + ' to learn more about interactive tables.';\n",
              "          element.innerHTML = '';\n",
              "          dataTable['output_type'] = 'display_data';\n",
              "          await google.colab.output.renderOutput(dataTable, element);\n",
              "          const docLink = document.createElement('div');\n",
              "          docLink.innerHTML = docLinkHtml;\n",
              "          element.appendChild(docLink);\n",
              "        }\n",
              "      </script>\n",
              "    </div>\n",
              "  </div>\n",
              "  "
            ]
          },
          "metadata": {},
          "execution_count": 219
        }
      ]
    },
    {
      "cell_type": "code",
      "source": [
        "df['time'] = pd.to_datetime(df['time'])"
      ],
      "metadata": {
        "id": "0x3IePygrObb"
      },
      "execution_count": 220,
      "outputs": []
    },
    {
      "cell_type": "markdown",
      "source": [
        "##Feature engineering (seleção de features, scalling) "
      ],
      "metadata": {
        "id": "GpTZMcoQymdF"
      }
    },
    {
      "cell_type": "code",
      "source": [
        "from sklearn.feature_selection import RFE\n",
        "from sklearn.feature_selection import RFECV\n",
        "from sklearn.feature_selection import SelectKBest, f_classif"
      ],
      "metadata": {
        "id": "aN55F8ZkbBxo"
      },
      "execution_count": 104,
      "outputs": []
    },
    {
      "cell_type": "code",
      "source": [
        "df_features = df.drop(['PriceUSD','time'], axis = 1)"
      ],
      "metadata": {
        "id": "YEUPl8K5c0W5"
      },
      "execution_count": 161,
      "outputs": []
    },
    {
      "cell_type": "code",
      "source": [
        "x1 = df_features\n",
        "y1 = df['PriceUSD']"
      ],
      "metadata": {
        "id": "xqzTRh5rbr4-"
      },
      "execution_count": 162,
      "outputs": []
    },
    {
      "cell_type": "code",
      "source": [
        "regr = LinearRegression()"
      ],
      "metadata": {
        "id": "Mhy7lPb7iIYH"
      },
      "execution_count": 163,
      "outputs": []
    },
    {
      "cell_type": "code",
      "source": [
        "regr.fit(x1,y1)"
      ],
      "metadata": {
        "colab": {
          "base_uri": "https://localhost:8080/"
        },
        "id": "Zj5gfDFziJi9",
        "outputId": "57d21653-c2de-4eb6-d0df-4f9e70a3f435"
      },
      "execution_count": 164,
      "outputs": [
        {
          "output_type": "execute_result",
          "data": {
            "text/plain": [
              "LinearRegression()"
            ]
          },
          "metadata": {},
          "execution_count": 164
        }
      ]
    },
    {
      "cell_type": "code",
      "source": [
        "x1_train, x1_test, y1_train, y1_test = train_test_split(x1, y1, test_size = 0.3)"
      ],
      "metadata": {
        "id": "h4b0TQMpb1Cu"
      },
      "execution_count": 165,
      "outputs": []
    },
    {
      "cell_type": "code",
      "source": [
        "dt1 = LinearRegression()\n",
        "dt1.fit(x1_train, y1_train)"
      ],
      "metadata": {
        "colab": {
          "base_uri": "https://localhost:8080/"
        },
        "id": "-dDkFwB5b6Dq",
        "outputId": "f2978762-f1ef-4a28-9a62-21609be9283a"
      },
      "execution_count": 166,
      "outputs": [
        {
          "output_type": "execute_result",
          "data": {
            "text/plain": [
              "LinearRegression()"
            ]
          },
          "metadata": {},
          "execution_count": 166
        }
      ]
    },
    {
      "cell_type": "markdown",
      "source": [
        "###Utilização de um seletor das melhores features, pois o dataset contém muitas colunas e precisamos filtrar para colocar apenas as que realmente influenciam na nossa target : \"PriceUSD\""
      ],
      "metadata": {
        "id": "ts-PNIxQy1mp"
      }
    },
    {
      "cell_type": "code",
      "source": [
        "rfe = RFE(estimator=dt1, step=1)\n",
        "rfe = rfe.fit(x1_train, y1_train)"
      ],
      "metadata": {
        "id": "suwHRnA2cN7m"
      },
      "execution_count": 167,
      "outputs": []
    },
    {
      "cell_type": "code",
      "source": [
        "selected_rfe_features = pd.DataFrame({'Feature':list(x1_train.columns),\n",
        "                                      'Ranking':rfe.ranking_})\n",
        "selected_rfe_features.sort_values(by='Ranking')"
      ],
      "metadata": {
        "colab": {
          "base_uri": "https://localhost:8080/",
          "height": 424
        },
        "id": "0FFDw8sUcS8z",
        "outputId": "d4eda991-4be6-43bb-f5d7-d41e446a748f"
      },
      "execution_count": 168,
      "outputs": [
        {
          "output_type": "execute_result",
          "data": {
            "text/plain": [
              "              Feature  Ranking\n",
              "71   ReferenceRateETH        1\n",
              "79             RevNtv        1\n",
              "78         RevHashUSD        1\n",
              "77     RevHashRateUSD        1\n",
              "76     RevHashRateNtv        1\n",
              "..                ...      ...\n",
              "135    TxTfrValAdjUSD       69\n",
              "39         CapRealUSD       70\n",
              "41           DiffMean       71\n",
              "40           DiffLast       72\n",
              "112   SplyAdrBalNtv1M       73\n",
              "\n",
              "[143 rows x 2 columns]"
            ],
            "text/html": [
              "\n",
              "  <div id=\"df-4c192b80-250e-4e82-9545-fab0600b741b\">\n",
              "    <div class=\"colab-df-container\">\n",
              "      <div>\n",
              "<style scoped>\n",
              "    .dataframe tbody tr th:only-of-type {\n",
              "        vertical-align: middle;\n",
              "    }\n",
              "\n",
              "    .dataframe tbody tr th {\n",
              "        vertical-align: top;\n",
              "    }\n",
              "\n",
              "    .dataframe thead th {\n",
              "        text-align: right;\n",
              "    }\n",
              "</style>\n",
              "<table border=\"1\" class=\"dataframe\">\n",
              "  <thead>\n",
              "    <tr style=\"text-align: right;\">\n",
              "      <th></th>\n",
              "      <th>Feature</th>\n",
              "      <th>Ranking</th>\n",
              "    </tr>\n",
              "  </thead>\n",
              "  <tbody>\n",
              "    <tr>\n",
              "      <th>71</th>\n",
              "      <td>ReferenceRateETH</td>\n",
              "      <td>1</td>\n",
              "    </tr>\n",
              "    <tr>\n",
              "      <th>79</th>\n",
              "      <td>RevNtv</td>\n",
              "      <td>1</td>\n",
              "    </tr>\n",
              "    <tr>\n",
              "      <th>78</th>\n",
              "      <td>RevHashUSD</td>\n",
              "      <td>1</td>\n",
              "    </tr>\n",
              "    <tr>\n",
              "      <th>77</th>\n",
              "      <td>RevHashRateUSD</td>\n",
              "      <td>1</td>\n",
              "    </tr>\n",
              "    <tr>\n",
              "      <th>76</th>\n",
              "      <td>RevHashRateNtv</td>\n",
              "      <td>1</td>\n",
              "    </tr>\n",
              "    <tr>\n",
              "      <th>...</th>\n",
              "      <td>...</td>\n",
              "      <td>...</td>\n",
              "    </tr>\n",
              "    <tr>\n",
              "      <th>135</th>\n",
              "      <td>TxTfrValAdjUSD</td>\n",
              "      <td>69</td>\n",
              "    </tr>\n",
              "    <tr>\n",
              "      <th>39</th>\n",
              "      <td>CapRealUSD</td>\n",
              "      <td>70</td>\n",
              "    </tr>\n",
              "    <tr>\n",
              "      <th>41</th>\n",
              "      <td>DiffMean</td>\n",
              "      <td>71</td>\n",
              "    </tr>\n",
              "    <tr>\n",
              "      <th>40</th>\n",
              "      <td>DiffLast</td>\n",
              "      <td>72</td>\n",
              "    </tr>\n",
              "    <tr>\n",
              "      <th>112</th>\n",
              "      <td>SplyAdrBalNtv1M</td>\n",
              "      <td>73</td>\n",
              "    </tr>\n",
              "  </tbody>\n",
              "</table>\n",
              "<p>143 rows × 2 columns</p>\n",
              "</div>\n",
              "      <button class=\"colab-df-convert\" onclick=\"convertToInteractive('df-4c192b80-250e-4e82-9545-fab0600b741b')\"\n",
              "              title=\"Convert this dataframe to an interactive table.\"\n",
              "              style=\"display:none;\">\n",
              "        \n",
              "  <svg xmlns=\"http://www.w3.org/2000/svg\" height=\"24px\"viewBox=\"0 0 24 24\"\n",
              "       width=\"24px\">\n",
              "    <path d=\"M0 0h24v24H0V0z\" fill=\"none\"/>\n",
              "    <path d=\"M18.56 5.44l.94 2.06.94-2.06 2.06-.94-2.06-.94-.94-2.06-.94 2.06-2.06.94zm-11 1L8.5 8.5l.94-2.06 2.06-.94-2.06-.94L8.5 2.5l-.94 2.06-2.06.94zm10 10l.94 2.06.94-2.06 2.06-.94-2.06-.94-.94-2.06-.94 2.06-2.06.94z\"/><path d=\"M17.41 7.96l-1.37-1.37c-.4-.4-.92-.59-1.43-.59-.52 0-1.04.2-1.43.59L10.3 9.45l-7.72 7.72c-.78.78-.78 2.05 0 2.83L4 21.41c.39.39.9.59 1.41.59.51 0 1.02-.2 1.41-.59l7.78-7.78 2.81-2.81c.8-.78.8-2.07 0-2.86zM5.41 20L4 18.59l7.72-7.72 1.47 1.35L5.41 20z\"/>\n",
              "  </svg>\n",
              "      </button>\n",
              "      \n",
              "  <style>\n",
              "    .colab-df-container {\n",
              "      display:flex;\n",
              "      flex-wrap:wrap;\n",
              "      gap: 12px;\n",
              "    }\n",
              "\n",
              "    .colab-df-convert {\n",
              "      background-color: #E8F0FE;\n",
              "      border: none;\n",
              "      border-radius: 50%;\n",
              "      cursor: pointer;\n",
              "      display: none;\n",
              "      fill: #1967D2;\n",
              "      height: 32px;\n",
              "      padding: 0 0 0 0;\n",
              "      width: 32px;\n",
              "    }\n",
              "\n",
              "    .colab-df-convert:hover {\n",
              "      background-color: #E2EBFA;\n",
              "      box-shadow: 0px 1px 2px rgba(60, 64, 67, 0.3), 0px 1px 3px 1px rgba(60, 64, 67, 0.15);\n",
              "      fill: #174EA6;\n",
              "    }\n",
              "\n",
              "    [theme=dark] .colab-df-convert {\n",
              "      background-color: #3B4455;\n",
              "      fill: #D2E3FC;\n",
              "    }\n",
              "\n",
              "    [theme=dark] .colab-df-convert:hover {\n",
              "      background-color: #434B5C;\n",
              "      box-shadow: 0px 1px 3px 1px rgba(0, 0, 0, 0.15);\n",
              "      filter: drop-shadow(0px 1px 2px rgba(0, 0, 0, 0.3));\n",
              "      fill: #FFFFFF;\n",
              "    }\n",
              "  </style>\n",
              "\n",
              "      <script>\n",
              "        const buttonEl =\n",
              "          document.querySelector('#df-4c192b80-250e-4e82-9545-fab0600b741b button.colab-df-convert');\n",
              "        buttonEl.style.display =\n",
              "          google.colab.kernel.accessAllowed ? 'block' : 'none';\n",
              "\n",
              "        async function convertToInteractive(key) {\n",
              "          const element = document.querySelector('#df-4c192b80-250e-4e82-9545-fab0600b741b');\n",
              "          const dataTable =\n",
              "            await google.colab.kernel.invokeFunction('convertToInteractive',\n",
              "                                                     [key], {});\n",
              "          if (!dataTable) return;\n",
              "\n",
              "          const docLinkHtml = 'Like what you see? Visit the ' +\n",
              "            '<a target=\"_blank\" href=https://colab.research.google.com/notebooks/data_table.ipynb>data table notebook</a>'\n",
              "            + ' to learn more about interactive tables.';\n",
              "          element.innerHTML = '';\n",
              "          dataTable['output_type'] = 'display_data';\n",
              "          await google.colab.output.renderOutput(dataTable, element);\n",
              "          const docLink = document.createElement('div');\n",
              "          docLink.innerHTML = docLinkHtml;\n",
              "          element.appendChild(docLink);\n",
              "        }\n",
              "      </script>\n",
              "    </div>\n",
              "  </div>\n",
              "  "
            ]
          },
          "metadata": {},
          "execution_count": 168
        }
      ]
    },
    {
      "cell_type": "code",
      "source": [
        "best_features = x1[[\n",
        "'ReferenceRateETH',\n",
        "'SplyAdrBal1in1K',\n",
        "'IssTotNtv',\n",
        "'SplyAdrBalNtv1',\n",
        "'SplyAdrBalNtv10',\n",
        "'SplyAdrBalNtv100',\n",
        "'IssContNtv',\n",
        "'SplyAdrBalNtv1K',\n",
        "'SplyAdrBalUSD1',\n",
        "'SplyAdrBalUSD100',\n",
        "'SplyAdrBalUSD100K',\n",
        "'FlowInExNtv',\n",
        "'SplyAdrBalUSD10K',\n",
        "'FeeTotNtv',\n",
        "'SplyAdrBalUSD10M',\n",
        "'FeeMeanUSD',\n",
        "'SplyAdrBal1in1B',\n",
        "'SplyAdrBalUSD1K',\n",
        "'NVTAdj',\n",
        "'NVTAdjFF',\n",
        "'SplyAct3yr',\n",
        "'RevNtv',\n",
        "'SplyAct5yr',\n",
        "'SplyAct90d',\n",
        "'SplyActEver',\n",
        "'SplyActPct1yr',\n",
        "'SplyAdrBal1in100K',\n",
        "'SplyAdrBal1in100M',\n",
        "'ReferenceRateEUR',\n",
        "'SplyAdrBal1in10K',\n",
        "'ReferenceRate',\n",
        "'ROI30d',\n",
        "'ROI1yr',\n",
        "'SplyAdrBal1in10M',\n",
        "'NVTAdjFF90',\n",
        "'NVTAdj90',\n",
        "'SplyCur',\n",
        "'SplyAdrTop10Pct',\n",
        "'AdrBalUSD100KCnt',\n",
        "'AdrBalNtv100Cnt',\n",
        "'AdrBalNtv100KCnt',\n",
        "'AdrBalNtv10Cnt',\n",
        "'AdrBalNtv10KCnt',\n",
        "'AdrBalNtv1Cnt',\n",
        "'AdrBalNtv1KCnt',\n",
        "'VelCur1yr',\n",
        "'AdrBalUSD100Cnt',\n",
        "'SplyFF',\n",
        "'AdrBalUSD10Cnt',\n",
        "'AdrBalUSD10KCnt',\n",
        "'AdrBalUSD10MCnt',\n",
        "'AdrBalCnt',\n",
        "'AdrBal1in1MCnt',\n",
        "'AdrBalNtv0.001Cnt',\n",
        "'AdrBalUSD1KCnt',\n",
        "'AdrBalUSD1MCnt',\n",
        "'TxTfrValMedUSD',\n",
        "'BlkCnt',\n",
        "'TxTfrValMeanNtv',\n",
        "'TxTfrCnt',\n",
        "'TxCnt',\n",
        "'AdrBal1in1BCnt',\n",
        "'AdrBal1in10MCnt',\n",
        "'CapMVRVCur',\n",
        "'CapMVRVFF',\n",
        "'AdrBal1in10KCnt',\n",
        "'AdrBal1in10BCnt',\n",
        "'AdrBal1in100KCnt',\n",
        "'SplyMiner0HopAllNtv',\n",
        "'AdrBal1in1KCnt',\n",
        "'AdrBalNtv0.01Cnt'\n",
        "]]"
      ],
      "metadata": {
        "id": "0X4mgHF5jqqZ"
      },
      "execution_count": 191,
      "outputs": []
    },
    {
      "cell_type": "markdown",
      "source": [
        "###Feito a seleção das melhores features, utilizamos um scaler para deixar as features contínuas com valores menos discrepantes, gerando ruídos e problemas no nosso modelo."
      ],
      "metadata": {
        "id": "vKqBRpl0ytx9"
      }
    },
    {
      "cell_type": "code",
      "source": [
        "from sklearn.preprocessing import RobustScaler\n",
        "robust = RobustScaler()"
      ],
      "metadata": {
        "id": "mrN2Xtg9a-tG"
      },
      "execution_count": 103,
      "outputs": []
    },
    {
      "cell_type": "code",
      "source": [
        "scaled_features = robust.fit_transform(best_features)"
      ],
      "metadata": {
        "id": "FmP0s0uDnkgw"
      },
      "execution_count": 231,
      "outputs": []
    },
    {
      "cell_type": "code",
      "source": [
        "df1 = pd.DataFrame(scaled_features)"
      ],
      "metadata": {
        "id": "oQTau-xHz5CA"
      },
      "execution_count": 232,
      "outputs": []
    },
    {
      "cell_type": "code",
      "source": [
        "X = df1\n",
        "y = y1"
      ],
      "metadata": {
        "id": "3OBYj8Xsstxc"
      },
      "execution_count": 233,
      "outputs": []
    },
    {
      "cell_type": "code",
      "source": [
        "X_train, X_test, y_train, y_test = train_test_split(X, y, test_size = 0.3)"
      ],
      "metadata": {
        "id": "PhsZBvXnzmSq"
      },
      "execution_count": 224,
      "outputs": []
    },
    {
      "cell_type": "code",
      "source": [
        "model = LinearRegression()\n",
        "model.fit(X_train, y_train)"
      ],
      "metadata": {
        "colab": {
          "base_uri": "https://localhost:8080/"
        },
        "id": "FN6_4efqHBeY",
        "outputId": "7e5745e3-9727-4b8c-a695-b42e732940de"
      },
      "execution_count": 225,
      "outputs": [
        {
          "output_type": "execute_result",
          "data": {
            "text/plain": [
              "LinearRegression()"
            ]
          },
          "metadata": {},
          "execution_count": 225
        }
      ]
    },
    {
      "cell_type": "markdown",
      "source": [
        "###Modelo criado e com um score altíssimo.  "
      ],
      "metadata": {
        "id": "IE6ukHxa0oXp"
      }
    },
    {
      "cell_type": "code",
      "source": [
        "model.score(X_test, y_test)"
      ],
      "metadata": {
        "colab": {
          "base_uri": "https://localhost:8080/"
        },
        "id": "WT0LuNL9JZuw",
        "outputId": "070f50be-3c24-4b8c-a611-2dad2e6b9f40"
      },
      "execution_count": 226,
      "outputs": [
        {
          "output_type": "execute_result",
          "data": {
            "text/plain": [
              "0.9997981839202693"
            ]
          },
          "metadata": {},
          "execution_count": 226
        }
      ]
    }
  ]
}